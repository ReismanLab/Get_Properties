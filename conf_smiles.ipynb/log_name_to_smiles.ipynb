{
 "cells": [
  {
   "cell_type": "code",
   "execution_count": null,
   "metadata": {},
   "outputs": [],
   "source": [
    "import json\n",
    "import pandas as pd\n",
    "\n",
    "# Load the JSON file\n",
    "with open('/Users/manda/Desktop/Code/Get_Properties/smiles_to_idx.json', 'r') as f:\n",
    "    smiles_dict = json.load(f)\n",
    "\n",
    "# Load the Excel file\n",
    "excel_data = pd.read_excel('/Users/manda/Desktop/Code/all_dft/All_Conformer_Properties_I.xlsx')\n",
    "\n",
    "# Function to extract the identifier part from 'smiles_xxxxx_conf_x'\n",
    "def extract_id(smiles_conf):\n",
    "    # Ensure the value is treated as a string and strip spaces\n",
    "    smiles_conf = str(smiles_conf).strip()\n",
    "    \n",
    "    # Check for underscores and split\n",
    "    parts = smiles_conf.split('_')\n",
    "    \n",
    "    # Debugging: Print out what the split() produces\n",
    "    print(f\"Raw log_name value: '{smiles_conf}', Split parts: {parts}\")\n",
    "    \n",
    "    # Only proceed if the string has exactly 3 parts\n",
    "    if len(parts) == 4:  # Corrected expected length for `smiles_xxxxx_conf_x`\n",
    "        return parts[1]  # Return the 'xxxxx' part (the second part)\n",
    "    else:\n",
    "        print(f\"Unexpected format after split: {parts}\")\n",
    "        return None  # Return None if the format is unexpected\n",
    "\n",
    "# Create a new column with the corresponding SMILES from the JSON mapping\n",
    "def find_smiles(smiles_conf):\n",
    "    id_part = extract_id(smiles_conf)\n",
    "    \n",
    "    # Check if an ID was successfully extracted\n",
    "    if id_part:\n",
    "        # Debugging: Check if the id_part is in the JSON mapping\n",
    "        print(f\"Looking up SMILES for ID: {id_part}\")\n",
    "        \n",
    "        # Return the corresponding SMILES if found, otherwise 'Not found'\n",
    "        return next((k for k, v in smiles_dict.items() if v == id_part), 'Not found')\n",
    "    else:\n",
    "        return 'Invalid format'  # Handle unexpected formats\n",
    "\n",
    "# Apply the function to the 'log_name' column to create a new 'SMILES' column\n",
    "excel_data['SMILES'] = excel_data['log_name'].apply(find_smiles)\n",
    "\n",
    "# Save the updated Excel file with the new 'SMILES' column\n",
    "excel_data.to_excel('updated_excel_with_smiles_I.xlsx', index=False)\n",
    "\n",
    "print(\"Excel file updated successfully!\")\n"
   ]
  }
 ],
 "metadata": {
  "language_info": {
   "name": "python"
  }
 },
 "nbformat": 4,
 "nbformat_minor": 2
}
